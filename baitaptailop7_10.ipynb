{
  "nbformat": 4,
  "nbformat_minor": 0,
  "metadata": {
    "colab": {
      "name": "baitaptailop7/10.ipynb",
      "provenance": [],
      "authorship_tag": "ABX9TyNxgCvJljqPjGm0OEzNbE9w",
      "include_colab_link": true
    },
    "kernelspec": {
      "name": "python3",
      "display_name": "Python 3"
    },
    "language_info": {
      "name": "python"
    }
  },
  "cells": [
    {
      "cell_type": "markdown",
      "metadata": {
        "id": "view-in-github",
        "colab_type": "text"
      },
      "source": [
        "<a href=\"https://colab.research.google.com/github/VanThiKimKhanh/Kh-nh/blob/main/baitaptailop7_10.ipynb\" target=\"_parent\"><img src=\"https://colab.research.google.com/assets/colab-badge.svg\" alt=\"Open In Colab\"/></a>"
      ]
    },
    {
      "cell_type": "code",
      "metadata": {
        "colab": {
          "base_uri": "https://localhost:8080/"
        },
        "id": "JrO0GxrGUrDG",
        "outputId": "cd266803-1324-4ead-8d43-12e00beef56d"
      },
      "source": [
        "for i in range(10):\n",
        "   print(i)"
      ],
      "execution_count": 27,
      "outputs": [
        {
          "output_type": "stream",
          "name": "stdout",
          "text": [
            "0\n",
            "1\n",
            "2\n",
            "3\n",
            "4\n",
            "5\n",
            "6\n",
            "7\n",
            "8\n",
            "9\n"
          ]
        }
      ]
    },
    {
      "cell_type": "code",
      "metadata": {
        "colab": {
          "base_uri": "https://localhost:8080/"
        },
        "id": "fbgWklmHSlOV",
        "outputId": "da2b6732-cc7e-469d-86d9-40cfecc4b02f"
      },
      "source": [
        "Exercise 1: Print First 10 natural numbers using while loop\n",
        "\n",
        "# Nhập số nguyên n\n",
        "n=int(input(\"Nhập n=\"))\n",
        "# In các số nguyên i < n\n",
        "i=0\n",
        "while i<n:\n",
        "\n",
        "    print(i)\n",
        "\n",
        "    i +=1\n"
      ],
      "execution_count": 20,
      "outputs": [
        {
          "output_type": "stream",
          "name": "stdout",
          "text": [
            "Nhập n=10\n",
            "0\n",
            "1\n",
            "2\n",
            "3\n",
            "4\n",
            "5\n",
            "6\n",
            "7\n",
            "8\n",
            "9\n"
          ]
        }
      ]
    },
    {
      "cell_type": "code",
      "metadata": {
        "colab": {
          "base_uri": "https://localhost:8080/"
        },
        "id": "iLSPHCt1dg73",
        "outputId": "9077718b-07ae-438f-c4b0-226d89c4360c"
      },
      "source": [
        "Exercise 2: Print the following pattern\n",
        "\n",
        "rows = 5\n",
        "for i in range(rows, 0, -1):\n",
        "  for j in range(i, 0, -1):\n",
        "    print(j, end=' ')\n",
        "  print(\"\\r\")"
      ],
      "execution_count": 21,
      "outputs": [
        {
          "output_type": "stream",
          "name": "stdout",
          "text": [
            "5 4 3 2 1 \r\n",
            "4 3 2 1 \r\n",
            "3 2 1 \r\n",
            "2 1 \r\n",
            "1 \r\n"
          ]
        }
      ]
    },
    {
      "cell_type": "code",
      "metadata": {
        "colab": {
          "base_uri": "https://localhost:8080/"
        },
        "id": "5qtMNbJoNpv3",
        "outputId": "247b074e-cf7c-4685-ee0f-e8d50aa94a46"
      },
      "source": [
        "Exercise 3: Calculate the sum of all numbers from 1 to a given number\n",
        "\n",
        "tong = 0\n",
        "N= int(input(\"Mời bạn nhập một số nguyên dương N: \"))\n",
        "while not N>0:\n",
        "  N=int(input(\"Mời bạn nhập lại số nguyên dương N: \"))\n",
        "for i in range(1,N+1) :\n",
        "  tong+=i\n",
        "print(\"Tổng các số từ 1->\",N,\"là: \",tong)"
      ],
      "execution_count": 5,
      "outputs": [
        {
          "output_type": "stream",
          "name": "stdout",
          "text": [
            "Mời bạn nhập một số nguyên dương N: 5\n",
            "Tổng các số từ 1-> 5 là:  15\n"
          ]
        }
      ]
    },
    {
      "cell_type": "code",
      "metadata": {
        "colab": {
          "base_uri": "https://localhost:8080/"
        },
        "id": "eyQMruvNRje1",
        "outputId": "8229bd27-bd2d-4c62-eb6c-f2042597d9f8"
      },
      "source": [
        "Exercise 4: Write a program to print multiplication table of a given number with natural numbers\n",
        "from 1 to 10.\n",
        "\n",
        "for i in range(2,10):\n",
        "  print(\"Bang cuu chuong \", i,\":\")\n",
        "  for j in range(1,11):\n",
        "    print(i,\"x\",j,\"=\",i*j)"
      ],
      "execution_count": 6,
      "outputs": [
        {
          "output_type": "stream",
          "name": "stdout",
          "text": [
            "Bang cuu chuong  2 :\n",
            "2 x 1 = 2\n",
            "2 x 2 = 4\n",
            "2 x 3 = 6\n",
            "2 x 4 = 8\n",
            "2 x 5 = 10\n",
            "2 x 6 = 12\n",
            "2 x 7 = 14\n",
            "2 x 8 = 16\n",
            "2 x 9 = 18\n",
            "2 x 10 = 20\n",
            "Bang cuu chuong  3 :\n",
            "3 x 1 = 3\n",
            "3 x 2 = 6\n",
            "3 x 3 = 9\n",
            "3 x 4 = 12\n",
            "3 x 5 = 15\n",
            "3 x 6 = 18\n",
            "3 x 7 = 21\n",
            "3 x 8 = 24\n",
            "3 x 9 = 27\n",
            "3 x 10 = 30\n",
            "Bang cuu chuong  4 :\n",
            "4 x 1 = 4\n",
            "4 x 2 = 8\n",
            "4 x 3 = 12\n",
            "4 x 4 = 16\n",
            "4 x 5 = 20\n",
            "4 x 6 = 24\n",
            "4 x 7 = 28\n",
            "4 x 8 = 32\n",
            "4 x 9 = 36\n",
            "4 x 10 = 40\n",
            "Bang cuu chuong  5 :\n",
            "5 x 1 = 5\n",
            "5 x 2 = 10\n",
            "5 x 3 = 15\n",
            "5 x 4 = 20\n",
            "5 x 5 = 25\n",
            "5 x 6 = 30\n",
            "5 x 7 = 35\n",
            "5 x 8 = 40\n",
            "5 x 9 = 45\n",
            "5 x 10 = 50\n",
            "Bang cuu chuong  6 :\n",
            "6 x 1 = 6\n",
            "6 x 2 = 12\n",
            "6 x 3 = 18\n",
            "6 x 4 = 24\n",
            "6 x 5 = 30\n",
            "6 x 6 = 36\n",
            "6 x 7 = 42\n",
            "6 x 8 = 48\n",
            "6 x 9 = 54\n",
            "6 x 10 = 60\n",
            "Bang cuu chuong  7 :\n",
            "7 x 1 = 7\n",
            "7 x 2 = 14\n",
            "7 x 3 = 21\n",
            "7 x 4 = 28\n",
            "7 x 5 = 35\n",
            "7 x 6 = 42\n",
            "7 x 7 = 49\n",
            "7 x 8 = 56\n",
            "7 x 9 = 63\n",
            "7 x 10 = 70\n",
            "Bang cuu chuong  8 :\n",
            "8 x 1 = 8\n",
            "8 x 2 = 16\n",
            "8 x 3 = 24\n",
            "8 x 4 = 32\n",
            "8 x 5 = 40\n",
            "8 x 6 = 48\n",
            "8 x 7 = 56\n",
            "8 x 8 = 64\n",
            "8 x 9 = 72\n",
            "8 x 10 = 80\n",
            "Bang cuu chuong  9 :\n",
            "9 x 1 = 9\n",
            "9 x 2 = 18\n",
            "9 x 3 = 27\n",
            "9 x 4 = 36\n",
            "9 x 5 = 45\n",
            "9 x 6 = 54\n",
            "9 x 7 = 63\n",
            "9 x 8 = 72\n",
            "9 x 9 = 81\n",
            "9 x 10 = 90\n"
          ]
        }
      ]
    },
    {
      "cell_type": "code",
      "metadata": {
        "colab": {
          "base_uri": "https://localhost:8080/"
        },
        "id": "viRenBSwnzSh",
        "outputId": "0ffc732e-6b09-4d3d-e457-a9b113f4c08a"
      },
      "source": [
        "Exercise 5: Display numbers from a list using loop\n",
        "\n",
        "a = [1, 2, 3, 4, 5]\n",
        "for x in range(len(a)):\n",
        "   print(a[x])"
      ],
      "execution_count": 31,
      "outputs": [
        {
          "output_type": "stream",
          "name": "stdout",
          "text": [
            "1\n",
            "2\n",
            "3\n",
            "4\n",
            "5\n"
          ]
        }
      ]
    },
    {
      "cell_type": "code",
      "metadata": {
        "colab": {
          "base_uri": "https://localhost:8080/"
        },
        "id": "2p8IcUP6SjUc",
        "outputId": "88f38e7a-4174-430c-c36b-d8d29c2653de"
      },
      "source": [
        "Exercise 6: Count the total number of digits in a number\n",
        "\n",
        "import re\n",
        "line = \" Chào mọi người \"\n",
        "count = len(re.findall(r'\\w+', line))\n",
        "print (count)"
      ],
      "execution_count": 10,
      "outputs": [
        {
          "output_type": "stream",
          "name": "stdout",
          "text": [
            "3\n"
          ]
        }
      ]
    },
    {
      "cell_type": "code",
      "metadata": {
        "colab": {
          "base_uri": "https://localhost:8080/"
        },
        "id": "4yVKgbj2WdkI",
        "outputId": "85c4181a-28ce-4d7c-d694-367e38b8ecd0"
      },
      "source": [
        "Exercise 7: Print list in reverse order using a loop\n",
        "\n",
        "for i in reversed(range(10)):\n",
        "   print(i)"
      ],
      "execution_count": 11,
      "outputs": [
        {
          "output_type": "stream",
          "name": "stdout",
          "text": [
            "9\n",
            "8\n",
            "7\n",
            "6\n",
            "5\n",
            "4\n",
            "3\n",
            "2\n",
            "1\n",
            "0\n"
          ]
        }
      ]
    },
    {
      "cell_type": "code",
      "metadata": {
        "colab": {
          "base_uri": "https://localhost:8080/"
        },
        "id": "qNoUNZ1WX02m",
        "outputId": "73e68e40-f5c8-4020-841f-d57c6ad28ddf"
      },
      "source": [
        "Exercise 9: Use else block to display a message “Done” after successful execution of for loop\n",
        "\n",
        "for i in range(10):\n",
        "   print(i)\n",
        "else:\n",
        "    print(\" Đã xong \")"
      ],
      "execution_count": 12,
      "outputs": [
        {
          "output_type": "stream",
          "name": "stdout",
          "text": [
            "0\n",
            "1\n",
            "2\n",
            "3\n",
            "4\n",
            "5\n",
            "6\n",
            "7\n",
            "8\n",
            "9\n",
            " Đã xong \n"
          ]
        }
      ]
    },
    {
      "cell_type": "code",
      "metadata": {
        "colab": {
          "base_uri": "https://localhost:8080/"
        },
        "id": "8XvUUTkbphVJ",
        "outputId": "aa0dea22-d2c8-482e-c81a-8b3545bbcb79"
      },
      "source": [
        "Exercise 10: Write a program to display all prime numbers within a range\n",
        "\n",
        "mylist = ['red', 'blue', 'yellow', 'black']\n",
        "print(mylist)"
      ],
      "execution_count": 38,
      "outputs": [
        {
          "output_type": "stream",
          "name": "stdout",
          "text": [
            "['red', 'blue', 'yellow', 'black']\n"
          ]
        }
      ]
    },
    {
      "cell_type": "code",
      "metadata": {
        "colab": {
          "base_uri": "https://localhost:8080/"
        },
        "id": "DEUKm5PusLUz",
        "outputId": "651af3f7-20cb-4ff1-cfd9-9b0837cd2281"
      },
      "source": [
        "Exercise 11: Display Fibonacci series up to 10 terms\n",
        "\n",
        "def fibonacci(n):\n",
        "    f0 = 0;\n",
        "    f1 = 1;\n",
        "    fn = 1;\n",
        " \n",
        "    if (n < 0):\n",
        "        return -1;\n",
        "    elif (n == 0 or n == 1):\n",
        "        return n;\n",
        "    else:\n",
        "        for i in range(2, n):\n",
        "            f0 = f1;\n",
        "            f1 = fn;\n",
        "            fn = f0 + f1;\n",
        "        return fn;\n",
        " \n",
        "print(\"10 số đầu tiên của dãy số fibonacci: \");\n",
        "sb = \"\";\n",
        "for i in range(0, 10):\n",
        "    sb = sb + str(fibonacci(i)) + \", \";\n",
        "print(sb)"
      ],
      "execution_count": 39,
      "outputs": [
        {
          "output_type": "stream",
          "name": "stdout",
          "text": [
            "10 số đầu tiên của dãy số fibonacci: \n",
            "0, 1, 1, 2, 3, 5, 8, 13, 21, 34, \n"
          ]
        }
      ]
    },
    {
      "cell_type": "code",
      "metadata": {
        "colab": {
          "base_uri": "https://localhost:8080/"
        },
        "id": "mwXgzgwqYVk3",
        "outputId": "318829e9-38a4-4e73-91b8-66ef568c2688"
      },
      "source": [
        "Exercise 12: Find the factorial of a given number\n",
        "\n",
        "def giaithua(n):\n",
        "    if n==0 or n==1:\n",
        "        return 1\n",
        "    else:\n",
        "        return n*giaithua(n-1)\n",
        "print(giaithua(9))"
      ],
      "execution_count": 14,
      "outputs": [
        {
          "output_type": "stream",
          "name": "stdout",
          "text": [
            "362880\n"
          ]
        }
      ]
    },
    {
      "cell_type": "code",
      "metadata": {
        "colab": {
          "base_uri": "https://localhost:8080/"
        },
        "id": "3NDEAeD0Y7Mv",
        "outputId": "83388810-f233-4d72-bc10-cb5f15dcbafd"
      },
      "source": [
        "Exercise 13: Reverse a given integer number\n",
        "\n",
        "n = int(input(\" Mời bạn nhập vào một số nguyên: \"))\n",
        "rev = 0\n",
        "while(n > 0):\n",
        "  a = n % 10\n",
        "  rev = rev*10+a\n",
        "  n = n//10\n",
        "print(rev)"
      ],
      "execution_count": 23,
      "outputs": [
        {
          "output_type": "stream",
          "name": "stdout",
          "text": [
            " Mời bạn nhập vào một số nguyên: 123456789\n",
            "987654321\n"
          ]
        }
      ]
    },
    {
      "cell_type": "code",
      "metadata": {
        "colab": {
          "base_uri": "https://localhost:8080/"
        },
        "id": "WWV5AZlos-uz",
        "outputId": "75ab9b9a-e71e-45ba-ac05-e508d24a2b5e"
      },
      "source": [
        "Exercise 14: Use a loop to display elements from a given list present at odd index positions\n",
        "\n",
        "a = int(input())\n",
        "b = int(input())\n",
        "\n",
        "answer = 0\n",
        "for i in range(a, b + 1):\n",
        "    if i % 2 != 0:\n",
        "        answer += i\n",
        "print(answer)"
      ],
      "execution_count": 40,
      "outputs": [
        {
          "output_type": "stream",
          "name": "stdout",
          "text": [
            "10\n",
            "40\n",
            "375\n"
          ]
        }
      ]
    }
  ]
}